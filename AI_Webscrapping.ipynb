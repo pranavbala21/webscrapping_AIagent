{
 "cells": [
  {
   "cell_type": "code",
   "execution_count": 49,
   "id": "13331e99-bfce-4c5b-b2b7-3676d5dcdf4c",
   "metadata": {},
   "outputs": [],
   "source": [
    "from bs4 import BeautifulSoup\n",
    "import requests\n",
    "from transformers import pipeline"
   ]
  },
  {
   "cell_type": "code",
   "execution_count": 62,
   "id": "bbc8b870-806c-4534-abf6-dff462e70652",
   "metadata": {},
   "outputs": [],
   "source": [
    "def scrape_and_summarize(url):\n",
    "    # Step 1: Fetching the web page content\n",
    "    try:\n",
    "        response = requests.get(url)\n",
    "        response.raise_for_status()\n",
    "        html_content = response.text\n",
    "    except requests.exceptions.RequestException as e:\n",
    "        return f\"Error fetching the URL: {e}\"\n",
    "\n",
    "    \n",
    "    soup = BeautifulSoup(html_content, 'html.parser')\n",
    "\n",
    "    # Extracting title\n",
    "    title = soup.title.string if soup.title else \"No title found\"\n",
    "\n",
    "    # Extracting headings and main content\n",
    "    headings = [h.get_text(strip=True) for h in soup.find_all(['h1', 'h2', 'h3'])]\n",
    "    paragraphs = [p.get_text(strip=True) for p in soup.find_all('p')]\n",
    "\n",
    "    # Combining extracted content\n",
    "    content = \"\\n\".join(headings + paragraphs)\n",
    "\n",
    "    if not content.strip():\n",
    "        return \"No meaningful content extracted from the webpage.\"\n",
    "\n",
    "    # Truncating content to fit model limits\n",
    "    max_tokens = 1024\n",
    "    content = \" \".join(content.split()[:max_tokens])\n",
    "\n",
    "    # Step3: Summarising content using an open-source NLP model\n",
    "    try:\n",
    "        summarizer = pipeline(\"summarization\", model=\"facebook/bart-large-cnn\")\n",
    "        summary = summarizer(\n",
    "            content, \n",
    "            max_length=150,  # Maximum length (about 150 words)\n",
    "            min_length=100,  # Minimum length (about 100 words)\n",
    "            do_sample=False\n",
    "        )[0]['summary_text']\n",
    "    except Exception as e:\n",
    "        return f\"Error during summarization: {e}\"\n",
    "\n",
    "    # Output the results\n",
    "    return {\n",
    "        \"title\": title,\n",
    "        \"headings\": headings,\n",
    "        \"summary\": summary\n",
    "    }"
   ]
  },
  {
   "cell_type": "code",
   "execution_count": 64,
   "id": "e35a96f5-08db-4fd1-bc9b-12123695fc22",
   "metadata": {},
   "outputs": [
    {
     "name": "stdin",
     "output_type": "stream",
     "text": [
      "Enter the URL:  https://www.formula1.com/en/drivers/lewis-hamilton\n"
     ]
    },
    {
     "name": "stderr",
     "output_type": "stream",
     "text": [
      "Device set to use cpu\n"
     ]
    },
    {
     "name": "stdout",
     "output_type": "stream",
     "text": [
      "Title: Lewis Hamilton - F1 Driver for Ferrari\n",
      "\n",
      "Headings:\n",
      "- Lewis Hamilton\n",
      "- Biography\n",
      "- Results\n",
      "- Gaming\n",
      "\n",
      "Summary:\n",
      "Lewis Hamilton is one of the best drivers in the history of Formula One. The Briton has risen to the top of the all-time pole positions list ahead of his hero Ayrton Senna. He has also surged into first place in the wins column surpassing the inimitable Michael Schumacher, and then matched the legendary German’s seven world titles. Is he the G.O.A.T? Few would deny that he's in the conversation – and what's more he's got there his way.\n"
     ]
    }
   ],
   "source": [
    "if __name__ == \"__main__\":\n",
    "    url = input(\"Enter the URL: \")\n",
    "    result = scrape_and_summarize(url)\n",
    "    if isinstance(result, dict):\n",
    "        print(\"Title:\", result[\"title\"])\n",
    "        print(\"\\nHeadings:\")\n",
    "        for heading in result[\"headings\"]:\n",
    "            print(f\"- {heading}\")\n",
    "        print(\"\\nSummary:\")\n",
    "        print(result[\"summary\"])\n",
    "    else:\n",
    "        print(result)"
   ]
  }
 ],
 "metadata": {
  "kernelspec": {
   "display_name": "Python 3 (ipykernel)",
   "language": "python",
   "name": "python3"
  },
  "language_info": {
   "codemirror_mode": {
    "name": "ipython",
    "version": 3
   },
   "file_extension": ".py",
   "mimetype": "text/x-python",
   "name": "python",
   "nbconvert_exporter": "python",
   "pygments_lexer": "ipython3",
   "version": "3.12.7"
  }
 },
 "nbformat": 4,
 "nbformat_minor": 5
}
